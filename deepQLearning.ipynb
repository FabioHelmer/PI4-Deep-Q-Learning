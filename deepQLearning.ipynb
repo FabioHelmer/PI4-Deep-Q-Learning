{
 "cells": [
  {
   "cell_type": "markdown",
   "id": "c8eb7539",
   "metadata": {},
   "source": [
    "# Instalações feitas"
   ]
  },
  {
   "cell_type": "code",
   "execution_count": null,
   "id": "cd175048",
   "metadata": {},
   "outputs": [],
   "source": [
    "#!conda install pytorch torchvision torchaudio cudatoolkit=10.2 -c pytorch\n",
    "#!conda install -c anaconda swig\n",
    "#!conda install -c conda-forge stable-baselines3\n",
    "#!conda install -c conda-forge gym\n",
    "#!conda install -c conda-forge gym-atari\n",
    "#!conda install -c conda-forge gym-box2d\n",
    "#!pip install ale-py\n",
    "#!pip3 install atari-py\n",
    "#!conda install -c conda-forge tensorflow\n",
    "#! pip install baselines"
   ]
  },
  {
   "cell_type": "markdown",
   "id": "3784ed1e",
   "metadata": {},
   "source": [
    "## imports"
   ]
  },
  {
   "cell_type": "code",
   "execution_count": 1,
   "id": "05c3b33b",
   "metadata": {},
   "outputs": [],
   "source": [
    "from baselines.common.atari_wrappers import make_atari, wrap_deepmind\n",
    "import numpy as np\n",
    "import tensorflow as tf\n",
    "from tensorflow import keras\n",
    "from tensorflow.keras import layers"
   ]
  },
  {
   "cell_type": "code",
   "execution_count": 2,
   "id": "d99641b6",
   "metadata": {},
   "outputs": [],
   "source": [
    "# Configuration paramaters for the whole setup\n",
    "seed = 42\n",
    "gamma = 0.99  # Discount factor for past rewards\n",
    "epsilon = 1.0  # Epsilon greedy parameter\n",
    "epsilon_min = 0.1  # Minimum epsilon greedy parameter\n",
    "epsilon_max = 1.0  # Maximum epsilon greedy parameter\n",
    "epsilon_interval = (\n",
    "    epsilon_max - epsilon_min\n",
    ")  # Rate at which to reduce chance of random action being taken\n",
    "batch_size = 32  # Size of batch taken from replay buffer\n",
    "max_steps_per_episode = 10000"
   ]
  },
  {
   "cell_type": "code",
   "execution_count": 3,
   "id": "11b9c3fa",
   "metadata": {},
   "outputs": [
    {
     "name": "stderr",
     "output_type": "stream",
     "text": [
      "C:\\ProgramData\\Anaconda3\\lib\\site-packages\\gym\\logger.py:30: UserWarning: \u001b[33mWARN: Box bound precision lowered by casting to float32\u001b[0m\n",
      "  warnings.warn(colorize('%s: %s'%('WARN', msg % args), 'yellow'))\n"
     ]
    },
    {
     "data": {
      "text/plain": [
       "[42, 742738649]"
      ]
     },
     "execution_count": 3,
     "metadata": {},
     "output_type": "execute_result"
    }
   ],
   "source": [
    "# Use the Baseline Atari environment because of Deepmind helper functions\n",
    "env = make_atari(\"PongNoFrameskip-v4\")\n",
    "# Warp the frames, grey scale, stake four frame and scale to smaller ratio\n",
    "env = wrap_deepmind(env, frame_stack=True, scale=True)\n",
    "env.seed(seed)"
   ]
  },
  {
   "cell_type": "code",
   "execution_count": 4,
   "id": "39b72b13",
   "metadata": {},
   "outputs": [],
   "source": [
    "num_actions = 4\n",
    "\n",
    "\n",
    "def create_q_model():\n",
    "    # Network defined by the Deepmind paper\n",
    "    inputs = layers.Input(shape=(84, 84, 4,))\n",
    "\n",
    "    # Convolutions on the frames on the screen\n",
    "    layer1 = layers.Conv2D(32, 8, strides=4, activation=\"relu\")(inputs)\n",
    "    layer2 = layers.Conv2D(64, 4, strides=2, activation=\"relu\")(layer1)\n",
    "    layer3 = layers.Conv2D(64, 3, strides=1, activation=\"relu\")(layer2)\n",
    "\n",
    "    layer4 = layers.Flatten()(layer3)\n",
    "\n",
    "    layer5 = layers.Dense(512, activation=\"relu\")(layer4)\n",
    "    action = layers.Dense(num_actions, activation=\"linear\")(layer5)\n",
    "\n",
    "    return keras.Model(inputs=inputs, outputs=action)\n",
    "\n",
    "\n",
    "# The first model makes the predictions for Q-values which are used to\n",
    "# make a action.\n",
    "model = create_q_model()\n",
    "# Build a target model for the prediction of future rewards.\n",
    "# The weights of a target model get updated every 10000 steps thus when the\n",
    "# loss between the Q-values is calculated the target Q-value is stable.\n",
    "model_target = create_q_model()"
   ]
  },
  {
   "cell_type": "markdown",
   "id": "ac09ff4f",
   "metadata": {},
   "source": [
    "# Train"
   ]
  },
  {
   "cell_type": "code",
   "execution_count": 5,
   "id": "6b8fff70",
   "metadata": {},
   "outputs": [
    {
     "name": "stdout",
     "output_type": "stream",
     "text": [
      "-20.0\n",
      "-20.5\n",
      "-20.666666666666668\n",
      "-20.5\n",
      "-20.6\n",
      "-20.5\n",
      "-20.571428571428573\n",
      "-20.625\n",
      "-20.666666666666668\n",
      "-20.7\n",
      "-20.727272727272727\n",
      "running reward: -20.73 at episode 11, frame count 10000\n",
      "-20.666666666666668\n",
      "-20.692307692307693\n",
      "-20.714285714285715\n",
      "-20.733333333333334\n",
      "-20.75\n",
      "-20.705882352941178\n",
      "-20.666666666666668\n",
      "-20.68421052631579\n",
      "-20.65\n",
      "-20.666666666666668\n",
      "-20.59090909090909\n",
      "running reward: -20.59 at episode 22, frame count 20000\n",
      "-20.565217391304348\n",
      "-20.583333333333332\n",
      "-20.6\n",
      "-20.615384615384617\n",
      "-20.62962962962963\n",
      "-20.607142857142858\n",
      "-20.620689655172413\n",
      "-20.633333333333333\n",
      "-20.612903225806452\n",
      "-20.625\n",
      "-20.606060606060606\n",
      "running reward: -20.61 at episode 33, frame count 30000\n",
      "-20.61764705882353\n",
      "-20.542857142857144\n",
      "-20.555555555555557\n",
      "-20.56756756756757\n",
      "-20.526315789473685\n",
      "-20.53846153846154\n",
      "-20.525\n",
      "-20.536585365853657\n",
      "-20.547619047619047\n",
      "-20.53488372093023\n",
      "-20.545454545454547\n",
      "running reward: -20.55 at episode 44, frame count 40000\n",
      "-20.555555555555557\n",
      "-20.543478260869566\n",
      "-20.53191489361702\n",
      "-20.541666666666668\n",
      "-20.53061224489796\n",
      "-20.5\n",
      "-20.470588235294116\n",
      "-20.48076923076923\n",
      "-20.49056603773585\n",
      "-20.48148148148148\n",
      "running reward: -20.48 at episode 54, frame count 50000\n",
      "-20.490909090909092\n",
      "-20.5\n",
      "-20.50877192982456\n",
      "-20.5\n",
      "-20.508474576271187\n",
      "-20.516666666666666\n",
      "-20.524590163934427\n",
      "-20.5\n",
      "-20.50793650793651\n",
      "-20.515625\n",
      "-20.50769230769231\n",
      "running reward: -20.51 at episode 65, frame count 60000\n",
      "-20.5\n",
      "-20.492537313432837\n",
      "-20.5\n",
      "-20.507246376811594\n",
      "-20.514285714285716\n",
      "-20.52112676056338\n",
      "-20.51388888888889\n",
      "-20.52054794520548\n",
      "-20.527027027027028\n",
      "-20.533333333333335\n",
      "-20.539473684210527\n",
      "running reward: -20.54 at episode 76, frame count 70000\n",
      "-20.545454545454547\n",
      "-20.55128205128205\n",
      "-20.556962025316455\n",
      "-20.55\n",
      "-20.555555555555557\n",
      "-20.5609756097561\n",
      "-20.566265060240966\n",
      "-20.571428571428573\n",
      "-20.564705882352943\n",
      "-20.558139534883722\n",
      "-20.551724137931036\n",
      "running reward: -20.55 at episode 87, frame count 80000\n",
      "-20.556818181818183\n",
      "-20.56179775280899\n",
      "-20.566666666666666\n",
      "-20.571428571428573\n",
      "-20.57608695652174\n",
      "-20.580645161290324\n",
      "-20.585106382978722\n",
      "-20.589473684210525\n",
      "-20.583333333333332\n",
      "-20.577319587628867\n",
      "-20.581632653061224\n",
      "running reward: -20.58 at episode 98, frame count 90000\n",
      "-20.585858585858585\n",
      "-20.59\n",
      "-20.58\n",
      "Solved at episode 101!\n"
     ]
    }
   ],
   "source": [
    "# In the Deepmind paper they use RMSProp however then Adam optimizer\n",
    "# improves training time\n",
    "# optimizer = keras.optimizers.SGD(learning_rate=0.4)\n",
    "optimizer = keras.optimizers.RMSprop(\n",
    "    learning_rate=0.001,\n",
    "    rho=0.9,\n",
    "    momentum=0.0,\n",
    "    epsilon=1e-07,\n",
    "    centered=False,\n",
    "    name=\"RMSprop\")\n",
    "# optimizer = keras.optimizers.Adadelta(learning_rate=0.001, rho=0.95, epsilon=1e-07, name=\"Adadelta\")\n",
    "# optimizer = keras.optimizers.Adamax(learning_rate=0.001, beta_1=0.9, beta_2=0.999, epsilon=1e-07, name=\"Adamax\")\n",
    "\n",
    "#                                  0.00025, clipnorm=1.0)\n",
    "\n",
    "# Experience replay buffers\n",
    "action_history = []\n",
    "state_history = []\n",
    "state_next_history = []\n",
    "rewards_history = []\n",
    "done_history = []\n",
    "episode_reward_history = []\n",
    "running_reward = 0\n",
    "episode_count = 0\n",
    "frame_count = 0\n",
    "# Number of frames to take random action and observe output\n",
    "epsilon_random_frames = 500000\n",
    "# Number of frames for exploration\n",
    "epsilon_greedy_frames = 10000000.0\n",
    "# Maximum replay length\n",
    "# Note: The Deepmind paper suggests 1000000 however this causes memory issues\n",
    "max_memory_length = 100000\n",
    "# Train the model after 4 actions\n",
    "update_after_actions = 4\n",
    "# How often to update the target network\n",
    "update_target_network = 10000\n",
    "# Using huber loss for stability\n",
    "loss_function = keras.losses.Huber()\n",
    "\n",
    "while True:  # Run until solved\n",
    "    state = np.array(env.reset())\n",
    "    episode_reward = 0\n",
    "\n",
    "    for timestep in range(1, max_steps_per_episode):\n",
    "        # env.render(); #Adding this line would show the attempts\n",
    "        # of the agent in a pop up window.\n",
    "        frame_count += 1\n",
    "\n",
    "        # Use epsilon-greedy for exploration\n",
    "        if frame_count < epsilon_random_frames or epsilon > np.random.rand(1)[0]:\n",
    "            # Take random action\n",
    "            action = np.random.choice(num_actions)\n",
    "        else:\n",
    "            # Predict action Q-values\n",
    "            # From environment state\n",
    "            state_tensor = tf.convert_to_tensor(state)\n",
    "            state_tensor = tf.expand_dims(state_tensor, 0)\n",
    "            action_probs = model(state_tensor, training=False)\n",
    "            # Take best action\n",
    "            action = tf.argmax(action_probs[0]).numpy()\n",
    "\n",
    "        # Decay probability of taking random action\n",
    "        epsilon -= epsilon_interval / epsilon_greedy_frames\n",
    "        epsilon = max(epsilon, epsilon_min)\n",
    "\n",
    "        # Apply the sampled action in our environment\n",
    "        state_next, reward, done, _ = env.step(action)\n",
    "        state_next = np.array(state_next)\n",
    "\n",
    "        episode_reward += reward\n",
    "\n",
    "        # Save actions and states in replay buffer\n",
    "        action_history.append(action)\n",
    "        state_history.append(state)\n",
    "        state_next_history.append(state_next)\n",
    "        done_history.append(done)\n",
    "        rewards_history.append(reward)\n",
    "        state = state_next\n",
    "\n",
    "        # Update every fourth frame and once batch size is over 32\n",
    "        if frame_count % update_after_actions == 0 and len(done_history) > batch_size:\n",
    "\n",
    "            # Get indices of samples for replay buffers\n",
    "            indices = np.random.choice(range(len(done_history)), size=batch_size)\n",
    "\n",
    "            # Using list comprehension to sample from replay buffer\n",
    "            state_sample = np.array([state_history[i] for i in indices])\n",
    "            state_next_sample = np.array([state_next_history[i] for i in indices])\n",
    "            rewards_sample = [rewards_history[i] for i in indices]\n",
    "            action_sample = [action_history[i] for i in indices]\n",
    "            done_sample = tf.convert_to_tensor(\n",
    "                [float(done_history[i]) for i in indices]\n",
    "            )\n",
    "\n",
    "            # Build the updated Q-values for the sampled future states\n",
    "            # Use the target model for stability\n",
    "            future_rewards = model_target.predict(state_next_sample)\n",
    "            # Q value = reward + discount factor * expected future reward\n",
    "            updated_q_values = rewards_sample + gamma * tf.reduce_max(\n",
    "                future_rewards, axis=1\n",
    "            )\n",
    "\n",
    "            # If final frame set the last value to -1\n",
    "            updated_q_values = updated_q_values * (1 - done_sample) - done_sample\n",
    "\n",
    "            # Create a mask so we only calculate loss on the updated Q-values\n",
    "            masks = tf.one_hot(action_sample, num_actions)\n",
    "\n",
    "            with tf.GradientTape() as tape:\n",
    "                # Train the model on the states and updated Q-values\n",
    "                q_values = model(state_sample)\n",
    "\n",
    "                # Apply the masks to the Q-values to get the Q-value for action taken\n",
    "                q_action = tf.reduce_sum(tf.multiply(q_values, masks), axis=1)\n",
    "                # Calculate loss between new Q-value and old Q-value\n",
    "                loss = loss_function(updated_q_values, q_action)\n",
    "\n",
    "            # Backpropagation\n",
    "            grads = tape.gradient(loss, model.trainable_variables)\n",
    "            optimizer.apply_gradients(zip(grads, model.trainable_variables))\n",
    "\n",
    "        if frame_count % update_target_network == 0:\n",
    "            # update the the target network with new weights\n",
    "            model_target.set_weights(model.get_weights())\n",
    "            # Log details\n",
    "            template = \"running reward: {:.2f} at episode {}, frame count {}\"\n",
    "            print(template.format(running_reward, episode_count, frame_count))\n",
    "\n",
    "        # Limit the state and reward history\n",
    "        if len(rewards_history) > max_memory_length:\n",
    "            del rewards_history[:1]\n",
    "            del state_history[:1]\n",
    "            del state_next_history[:1]\n",
    "            del action_history[:1]\n",
    "            del done_history[:1]\n",
    "\n",
    "        if done:\n",
    "            break\n",
    "\n",
    "    # Update running reward to check condition for solving\n",
    "    episode_reward_history.append(episode_reward)\n",
    "    if len(episode_reward_history) > 100:\n",
    "        del episode_reward_history[:1]\n",
    "    running_reward = np.mean(episode_reward_history)\n",
    "\n",
    "    episode_count += 1\n",
    "    print(running_reward)\n",
    "    if running_reward > 30:  # Condition to consider the task solved\n",
    "        print(\"Solved at episode {}!\".format(episode_count))\n",
    "        break"
   ]
  },
  {
   "cell_type": "markdown",
   "id": "8bca7581",
   "metadata": {},
   "source": [
    "# Save Model"
   ]
  },
  {
   "cell_type": "code",
   "execution_count": 6,
   "id": "c01d99a8",
   "metadata": {},
   "outputs": [
    {
     "name": "stdout",
     "output_type": "stream",
     "text": [
      "WARNING:tensorflow:Compiled the loaded model, but the compiled metrics have yet to be built. `model.compile_metrics` will be empty until you train or evaluate the model.\n"
     ]
    }
   ],
   "source": [
    "model.save('my_model.h5')"
   ]
  },
  {
   "cell_type": "markdown",
   "id": "fbf41a3c",
   "metadata": {},
   "source": [
    "# Load Model"
   ]
  },
  {
   "cell_type": "code",
   "execution_count": 7,
   "id": "41f47a60",
   "metadata": {},
   "outputs": [],
   "source": [
    "from tensorflow.keras.models import load_model"
   ]
  },
  {
   "cell_type": "code",
   "execution_count": 8,
   "id": "5331b417",
   "metadata": {},
   "outputs": [
    {
     "name": "stdout",
     "output_type": "stream",
     "text": [
      "WARNING:tensorflow:No training configuration found in the save file, so the model was *not* compiled. Compile it manually.\n",
      "Model: \"model\"\n",
      "_________________________________________________________________\n",
      " Layer (type)                Output Shape              Param #   \n",
      "=================================================================\n",
      " input_1 (InputLayer)        [(None, 84, 84, 4)]       0         \n",
      "                                                                 \n",
      " conv2d (Conv2D)             (None, 20, 20, 32)        8224      \n",
      "                                                                 \n",
      " conv2d_1 (Conv2D)           (None, 9, 9, 64)          32832     \n",
      "                                                                 \n",
      " conv2d_2 (Conv2D)           (None, 7, 7, 64)          36928     \n",
      "                                                                 \n",
      " flatten (Flatten)           (None, 3136)              0         \n",
      "                                                                 \n",
      " dense (Dense)               (None, 512)               1606144   \n",
      "                                                                 \n",
      " dense_1 (Dense)             (None, 4)                 2052      \n",
      "                                                                 \n",
      "=================================================================\n",
      "Total params: 1,686,180\n",
      "Trainable params: 1,686,180\n",
      "Non-trainable params: 0\n",
      "_________________________________________________________________\n"
     ]
    }
   ],
   "source": [
    "new_model = load_model('my_model.h5')\n",
    "# Show the model architecture\n",
    "new_model.summary()"
   ]
  },
  {
   "cell_type": "markdown",
   "id": "f9f12cf3",
   "metadata": {},
   "source": [
    "# Concluções\n"
   ]
  },
  {
   "cell_type": "markdown",
   "id": "376a0754",
   "metadata": {},
   "source": [
    "## A maior pontuação que o modelo fez durante os 2 dias de treino que eu consegui visualizar foi de 20 para IA do jogo e 4 pro nosso modelo, entretanto o modelo pode ter feito uma pontuação maior em periodos que não estava sendo observado. 2 dias realmente é um periodo muito curto para se obter um resultado razoavel, concluo então que se precisaria de um periodo de tempo muito maior para se obter resultados aceitaveis."
   ]
  },
  {
   "cell_type": "markdown",
   "id": "e33fadb1",
   "metadata": {},
   "source": [
    "![image info](img/game.png)"
   ]
  }
 ],
 "metadata": {
  "kernelspec": {
   "display_name": "Python 3 (ipykernel)",
   "language": "python",
   "name": "python3"
  },
  "language_info": {
   "codemirror_mode": {
    "name": "ipython",
    "version": 3
   },
   "file_extension": ".py",
   "mimetype": "text/x-python",
   "name": "python",
   "nbconvert_exporter": "python",
   "pygments_lexer": "ipython3",
   "version": "3.9.7"
  }
 },
 "nbformat": 4,
 "nbformat_minor": 5
}
